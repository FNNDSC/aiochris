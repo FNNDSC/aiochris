{
 "cells": [
  {
   "cell_type": "markdown",
   "source": [
    "# aiochris as a Shell\n",
    "\n",
    "Using `aiochris` in either IPython or Jupyter can be an easy way to work with _ChRIS_ with code interactively.\n",
    "\n",
    "## Getting Started\n",
    "\n",
    "Install `aiochris` and `chrs` by running\n",
    "\n",
    "```shell\n",
    "pip install aiochris[chrs]\n",
    "```"
   ],
   "metadata": {
    "collapsed": false
   }
  },
  {
   "cell_type": "markdown",
   "source": [
    "## Logging In\n",
    "\n",
    "Run `chrs login` to log into _ChRIS_, or `chrs switch` to alternate between multiple _ChRIS_ user accounts and servers. Once you are logged in, you can\n",
    "create a client using\n",
    "[`ChrisClient.from_chrs`](https://fnndsc.github.io/aiochris/aiochris/client/authed.html#AuthenticatedClient.from_chrs)."
   ],
   "metadata": {
    "collapsed": false
   }
  },
  {
   "cell_type": "code",
   "execution_count": 1,
   "outputs": [],
   "source": [
    "from aiochris import ChrisClient\n",
    "chris: ChrisClient = await ChrisClient.from_chrs()"
   ],
   "metadata": {
    "collapsed": false,
    "ExecuteTime": {
     "end_time": "2023-07-22T08:29:18.425039413Z",
     "start_time": "2023-07-22T08:29:18.089391980Z"
    }
   }
  },
  {
   "cell_type": "markdown",
   "source": [
    "What's great about `ChrisClient.from_chrs()` is that you will be able to share your notebook's code without sharing your _ChRIS_ login with them too."
   ],
   "metadata": {
    "collapsed": false
   }
  },
  {
   "cell_type": "markdown",
   "source": [
    "## Searching for PACS Files\n",
    "\n",
    "Let's try searching for all brain scans of female patients younger than 6 months old.\n",
    "We are optionally using [`tqdm`](https://tqdm.github.io/) to show a progress bar for our search."
   ],
   "metadata": {
    "collapsed": false
   }
  },
  {
   "cell_type": "code",
   "execution_count": 2,
   "outputs": [
    {
     "data": {
      "text/plain": "  0%|          | 0/950 [00:00<?, ?it/s]",
      "application/vnd.jupyter.widget-view+json": {
       "version_major": 2,
       "version_minor": 0,
       "model_id": "04c1b8b622504fd391c98c3a75a93bf5"
      }
     },
     "metadata": {},
     "output_type": "display_data"
    }
   ],
   "source": [
    "from tqdm.notebook import tqdm\n",
    "\n",
    "search = chris.search_pacsfiles(\n",
    "    PatientSex='F',          # female\n",
    "    max_PatientAge=182,      # 6 months in days\n",
    "    fname_icontains='BRAIN'  # file name includes \"BRAIN\"\n",
    ")\n",
    "series_dirs = set()\n",
    "with tqdm(total=await search.count()) as pbar:\n",
    "    async for pacs_file in search:\n",
    "        series_dirs.add(pacs_file.parent)\n",
    "        pbar.update()"
   ],
   "metadata": {
    "collapsed": false,
    "ExecuteTime": {
     "end_time": "2023-07-22T08:29:29.166281474Z",
     "start_time": "2023-07-22T08:29:23.303837895Z"
    }
   }
  },
  {
   "cell_type": "markdown",
   "source": [
    "## Create a Feed\n",
    "\n",
    "To analyze the data, we need to copy the files to a new feed."
   ],
   "metadata": {
    "collapsed": false
   }
  },
  {
   "cell_type": "code",
   "execution_count": 3,
   "outputs": [
    {
     "data": {
      "text/plain": "18"
     },
     "execution_count": 3,
     "metadata": {},
     "output_type": "execute_result"
    }
   ],
   "source": [
    "from aiochris.models import Plugin, PluginInstance\n",
    "\n",
    "pl_dircopy: Plugin = await chris.search_plugins(name='pl-dircopy').first()\n",
    "copy_to_feed: PluginInstance = await pl_dircopy.create_instance(dir=','.join(series_dirs))\n",
    "copy_to_feed.id"
   ],
   "metadata": {
    "collapsed": false,
    "ExecuteTime": {
     "end_time": "2023-07-22T08:29:33.119283309Z",
     "start_time": "2023-07-22T08:29:32.941421074Z"
    }
   }
  },
  {
   "cell_type": "markdown",
   "source": [
    "## Run a Plugin\n",
    "\n",
    "Now that our data is in a feed, we can run plugins to process the data.\n",
    "To help us, let's print out the parameters and help of our plugin first."
   ],
   "metadata": {
    "collapsed": false
   }
  },
  {
   "cell_type": "code",
   "execution_count": 4,
   "outputs": [
    {
     "name": "stdout",
     "output_type": "stream",
     "text": [
      "              b (-b): BIDS sidecar [choices: y, n, o] (default: y)\n",
      "              d (-d): directory search depth. Convert DICOMs in sub-folders of in_folder? [choices: 0, 1, 2, 3, 4, 5, 6, 7, 8, 9] (default: 5)\n",
      "              f (-f): filename (%%a=antenna (coil) name, %%b=basename, %%c=comments, %%d=description, %%e=echo number, %%f=folder name, %%g=accession number, %%i=ID of patient, %%j=seriesInstanceUID, %%k=studyInstanceUID, %%m=manufacturer, %%n=name of patient, %%o=mediaObjectInstanceUID, %%p=protocol, %%r=instance number, %%s=series number, %%t=time, %%u=acquisition number, %%v=vendor, %%x=study ID; %%z=sequence name;) (default: %f_%p_%t_%s)\n",
      "              m (-m): merge 2D slices from same series regardless of echo, exposure, etc. [no, yes, auto] [choices: n, y, 0, 1, 2] (default: 2)\n",
      "              v (-v): verbose [no, yes, logorrheic] [choices: n, y, 0, 1, 2] (default: 0)\n",
      "              x (-x): crop 3D acquisitions [choices: y, n, i] (default: n)\n",
      "              z (-z): gz compress images [y=pigz, o=optimal pigz, i=internal:miniz, n=no, 3=no,3D] [choices: y, o, i, n, 3] (default: n)\n"
     ]
    }
   ],
   "source": [
    "pl_dcm2niix: Plugin = await chris.search_plugins(name='pl-dcm2niix', version='0.1.0').get_only()\n",
    "await pl_dcm2niix.print_help()"
   ],
   "metadata": {
    "collapsed": false,
    "ExecuteTime": {
     "end_time": "2023-07-22T08:29:34.822224101Z",
     "start_time": "2023-07-22T08:29:34.799277029Z"
    }
   }
  },
  {
   "cell_type": "markdown",
   "source": [
    "The parameters and previous plugin instance are passed to the\n",
    "[`create_instance`](https://fnndsc.github.io/aiochris/aiochris/models/logged_in.html#Plugin.create_instance) method."
   ],
   "metadata": {
    "collapsed": false
   }
  },
  {
   "cell_type": "code",
   "execution_count": 5,
   "outputs": [
    {
     "data": {
      "text/plain": "19"
     },
     "execution_count": 5,
     "metadata": {},
     "output_type": "execute_result"
    }
   ],
   "source": [
    "plinst: PluginInstance = await pl_dcm2niix.create_instance(previous=copy_to_feed, b='y', x='y')\n",
    "plinst.id"
   ],
   "metadata": {
    "collapsed": false,
    "ExecuteTime": {
     "end_time": "2023-07-22T08:29:37.240720322Z",
     "start_time": "2023-07-22T08:29:37.149145975Z"
    }
   }
  },
  {
   "cell_type": "markdown",
   "source": [
    "You can wait for plugins to finish by calling [`PluginInstance.wait`](https://fnndsc.github.io/aiochris/models/logged_in.html#PluginInstance.wait)"
   ],
   "metadata": {
    "collapsed": false
   }
  },
  {
   "cell_type": "code",
   "execution_count": 6,
   "outputs": [
    {
     "name": "stdout",
     "output_type": "stream",
     "text": [
      "Waited for 110.67 seconds, status is Status.finishedSuccessfully\n"
     ]
    }
   ],
   "source": [
    "time_elapsed, last_state = await plinst.wait()\n",
    "print(f\"Waited for {time_elapsed:.2f} seconds, status is {last_state.status}\")"
   ],
   "metadata": {
    "collapsed": false,
    "ExecuteTime": {
     "end_time": "2023-07-22T08:31:30.509839835Z",
     "start_time": "2023-07-22T08:29:39.804172558Z"
    }
   }
  }
 ],
 "metadata": {
  "kernelspec": {
   "display_name": "Python 3",
   "language": "python",
   "name": "python3"
  },
  "language_info": {
   "codemirror_mode": {
    "name": "ipython",
    "version": 2
   },
   "file_extension": ".py",
   "mimetype": "text/x-python",
   "name": "python",
   "nbconvert_exporter": "python",
   "pygments_lexer": "ipython2",
   "version": "2.7.6"
  }
 },
 "nbformat": 4,
 "nbformat_minor": 0
}
